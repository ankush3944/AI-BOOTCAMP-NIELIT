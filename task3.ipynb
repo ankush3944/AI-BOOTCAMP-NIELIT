{
  "nbformat": 4,
  "nbformat_minor": 0,
  "metadata": {
    "colab": {
      "provenance": []
    },
    "kernelspec": {
      "name": "python3",
      "display_name": "Python 3"
    },
    "language_info": {
      "name": "python"
    }
  },
  "cells": [
    {
      "cell_type": "code",
      "execution_count": null,
      "metadata": {
        "colab": {
          "base_uri": "https://localhost:8080/"
        },
        "id": "7pN1d3UrXVu4",
        "outputId": "3d5c985d-3c36-46f1-99c9-08a83c470b62"
      },
      "outputs": [
        {
          "output_type": "stream",
          "name": "stdout",
          "text": [
            "Enter the first no11\n",
            "Enter the second no11\n",
            "121\n"
          ]
        }
      ],
      "source": [
        "a= int(input(\"Enter the first no\"))\n",
        "b= int(input(\"Enter the second no\"))\n",
        "c=a*b\n",
        "print(c)"
      ]
    }
  ]
}